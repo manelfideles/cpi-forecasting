{
 "cells": [
  {
   "cell_type": "code",
   "execution_count": null,
   "metadata": {},
   "outputs": [],
   "source": [
    "import pandas as pd\n",
    "import numpy as np\n",
    "\n",
    "# custom scripts\n",
    "from scripts.dataset_io import getDatasetFilePath, getDataset"
   ]
  },
  {
   "cell_type": "markdown",
   "metadata": {},
   "source": [
    "### 1 - Globals"
   ]
  },
  {
   "cell_type": "code",
   "execution_count": null,
   "metadata": {},
   "outputs": [],
   "source": [
    "dataDir: str = '../data'\n",
    "countryName: str = 'Portugal'\n",
    "\n",
    "settings: 'dict[str, any]' = {\n",
    "\t'filePath': getDatasetFilePath(\n",
    "\t\tdataDir, \n",
    "\t\tcountryName, \n",
    "\t\tfallback='CPITimeSeries'\n",
    "\t),\n",
    "\t'countryName': countryName,\n",
    "\t'indicator': 'PCPI_IX',\n",
    "}"
   ]
  },
  {
   "cell_type": "markdown",
   "metadata": {},
   "source": [
    "### 2 - Extract relevant info + Data Understanding"
   ]
  },
  {
   "cell_type": "code",
   "execution_count": null,
   "metadata": {},
   "outputs": [],
   "source": [
    "def understandData(df: pd.DataFrame) -> None :\n",
    "  print('DATAFRAME INFO')\n",
    "  print('------')\n",
    "  print('df shape:', df.shape)\n",
    "  print('------')\n",
    "  print('df head: \\n', df.head())\n",
    "  print('------')\n",
    "  print('df dtypes:\\n', df.dtypes)\n",
    "  print('------')\n",
    "  print('df describe: \\n', df.describe())\n",
    "  print('------')\n",
    "  print('df info: \\n', df.info())"
   ]
  },
  {
   "cell_type": "code",
   "execution_count": null,
   "metadata": {},
   "outputs": [],
   "source": [
    "df: pd.DataFrame = getDataset(dataDir, settings)"
   ]
  }
 ],
 "metadata": {
  "kernelspec": {
   "display_name": "Python 3.8.2 32-bit",
   "language": "python",
   "name": "python3"
  },
  "language_info": {
   "codemirror_mode": {
    "name": "ipython",
    "version": 3
   },
   "file_extension": ".py",
   "mimetype": "text/x-python",
   "name": "python",
   "nbconvert_exporter": "python",
   "pygments_lexer": "ipython3",
   "version": "3.8.2"
  },
  "orig_nbformat": 4,
  "vscode": {
   "interpreter": {
    "hash": "9650cb4e16cdd4a8e8e2d128bf38d875813998db22a3c986335f89e0cb4d7bb2"
   }
  }
 },
 "nbformat": 4,
 "nbformat_minor": 2
}
